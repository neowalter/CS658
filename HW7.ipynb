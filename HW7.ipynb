{
  "nbformat": 4,
  "nbformat_minor": 0,
  "metadata": {
    "colab": {
      "name": "HW7.ipynb",
      "provenance": [],
      "authorship_tag": "ABX9TyP5Q0ofaSu4K2PmSsS4Ye4p",
      "include_colab_link": true
    },
    "kernelspec": {
      "name": "python3",
      "display_name": "Python 3"
    }
  },
  "cells": [
    {
      "cell_type": "markdown",
      "metadata": {
        "id": "view-in-github",
        "colab_type": "text"
      },
      "source": [
        "<a href=\"https://colab.research.google.com/github/neowalter/CS658/blob/main/HW7.ipynb\" target=\"_parent\"><img src=\"https://colab.research.google.com/assets/colab-badge.svg\" alt=\"Open In Colab\"/></a>"
      ]
    },
    {
      "cell_type": "markdown",
      "metadata": {
        "id": "qf01rs-tJPjj"
      },
      "source": [
        "# count words"
      ]
    },
    {
      "cell_type": "code",
      "metadata": {
        "id": "vLdv3v-cXfsH"
      },
      "source": [
        "\n",
        "import os       \n",
        "!apt-get remove -y java*\n",
        "def install_java():\n",
        "    !apt-get install -y openjdk-8-jdk-headless -qq > /dev/null      \n",
        "    os.environ[\"JAVA_HOME\"] = \"/usr/lib/jvm/java-8-openjdk-amd64\"     \n",
        "    !java -version       \n",
        "\n",
        "install_java()"
      ],
      "execution_count": null,
      "outputs": []
    },
    {
      "cell_type": "code",
      "metadata": {
        "id": "RSlgZTxmX1VH",
        "outputId": "e0a4ded3-5c21-437c-dc3e-69e4bd973c8c",
        "colab": {
          "base_uri": "https://localhost:8080/",
          "height": 69
        }
      },
      "source": [
        "!export JAVA_HOME=/usr/lib/jvm/java-8-openjdk-amd64/jre\n",
        "!pip install pyspark\n",
        "import pyspark\n",
        "from pyspark.sql import SparkSession\n",
        "import pandas as pd\n",
        "from pyspark.sql import SQLContext\n",
        "\n",
        "spark = SparkSession.builder \\\n",
        "   .master(\"local\") \\\n",
        "   .appName(\"Wordcount & Friends Test\") \\\n",
        "   .config(\"spark.executor.memory\", \"2gb\") \\\n",
        "   .getOrCreate()\n",
        "   \n",
        "sc = spark.sparkContext\n",
        "sqlContext = SQLContext(sc)\n",
        "\n",
        "sc.version"
      ],
      "execution_count": 9,
      "outputs": [
        {
          "output_type": "stream",
          "text": [
            "Requirement already satisfied: pyspark in /usr/local/lib/python3.6/dist-packages (3.0.1)\n",
            "Requirement already satisfied: py4j==0.10.9 in /usr/local/lib/python3.6/dist-packages (from pyspark) (0.10.9)\n"
          ],
          "name": "stdout"
        },
        {
          "output_type": "execute_result",
          "data": {
            "application/vnd.google.colaboratory.intrinsic+json": {
              "type": "string"
            },
            "text/plain": [
              "'3.0.1'"
            ]
          },
          "metadata": {
            "tags": []
          },
          "execution_count": 9
        }
      ]
    },
    {
      "cell_type": "code",
      "metadata": {
        "id": "W-S3RNhFYIVI",
        "outputId": "02b20dd8-6411-482b-b2e8-05bb72c50e44",
        "colab": {
          "base_uri": "https://localhost:8080/"
        }
      },
      "source": [
        "!wget https://raw.githubusercontent.com/neowalter/CS658/main/wordcount_test_text\n",
        "!cat wordcount_test_text\n"
      ],
      "execution_count": 10,
      "outputs": [
        {
          "output_type": "stream",
          "text": [
            "--2020-11-03 05:22:57--  https://raw.githubusercontent.com/neowalter/CS658/main/wordcount_test_text\n",
            "Resolving raw.githubusercontent.com (raw.githubusercontent.com)... 151.101.0.133, 151.101.64.133, 151.101.128.133, ...\n",
            "Connecting to raw.githubusercontent.com (raw.githubusercontent.com)|151.101.0.133|:443... connected.\n",
            "HTTP request sent, awaiting response... 200 OK\n",
            "Length: 14385 (14K) [text/plain]\n",
            "Saving to: ‘wordcount_test_text’\n",
            "\n",
            "\rwordcount_test_text   0%[                    ]       0  --.-KB/s               \rwordcount_test_text 100%[===================>]  14.05K  --.-KB/s    in 0.01s   \n",
            "\n",
            "2020-11-03 05:22:57 (1.19 MB/s) - ‘wordcount_test_text’ saved [14385/14385]\n",
            "\n",
            "How to build a better business model by blockchain\n",
            "Abstract\n",
            "\n",
            "At present, we are living in a world that the surroundings are changing dramatically every day. Since the blockchain has been invented, it already self-upgraded three versions (Spithoven, 2019). Blockchain has been treated as a technological invention that can change the world, the main features include cryptography and cybersecurity. Many companies already used it to deploy their new business model in many different fields (Zhang, Xue & Liu, 2019). The security and privacy of blockchains which are shown by the current applications proved that this advanced technology can help with building a better model.\n",
            "\n",
            "Introduction\n",
            "\n",
            "Not far from now, on May 22, 2010, a programmer bought two large pizzas for 10,000 bitcoins. They were only worth about 30 dollars at the time (Wong, 2018). Now worth 80 million dollars, none of the companies have this rising price in the stock market like this.\n",
            "\n",
            "Since the blockchain has been invented,11 years have passed. Nowadays almost everybody knows two words, blockchain and bitcoin. Recently, almost every central bank has announced it was in the process of developing their blockchain system and issuing their digital currency. Meanwhile, lots of technology companies are adding their blockchain departments (Paul & Michael, 2015). Not long ago when a company announced that it would use blockchain, the stock price would increase incredibly. Those scenes are familiar to the early stage of Internet mania. In order to avoid the collapse of the industry finance structure, knowing more about the blockchain is necessary. Blockchain technology is not omnipotent, it cannot point stone into gold. However, the advantages that blockchain shows include security and efficiency, which can help build a better business proved by some current models.\n",
            "\n",
            "Blockchain\n",
            "\n",
            "In this paper, the explanations are mostly focusing on the structure,technical characteristics and how to make use of them.\n",
            "\n",
            "In a dynamic perspective blockchain is a database. It is a fixed-length infinitely expandable chain. Every transaction that takes place on the chain is recorded in block, the new block is the end of the old block (Joseph, Bambara & Paul,2018). Simply, try to imagine a scene where there is an office full of accountants, and there is a client depositing a check to his account. In the normal way there only needs to be one accountant to record it, and they only have one ledger which is the same operating principle as the old database (Steven, 2018). That flaw made it very vulnerable and easy to be altered or deleted. When it comes to blockchain, the rules are changed, every accountant needs to write it down simultaneously with security encryption method, so everybody knows how much clients have deposited but they don’t know who the client is unless the client wants them to know. If they want to change the client’s check, it can only happen when more than half of the accountants agree to change which makes it almost impossible to be altered (Huh & Kim, 2019).\n",
            "\n",
            "However, blockchain is more than that, in this paper, it is referring to the combination of several technologies. The blockchain technology means a set of the data-structure, the algorithm, which easily established a security platform. With all those features blockchain can easily provide unbiased distributed P2P (peer to peer) network (Drescher,2017). This is the technology foundation of the security attribute.\n",
            "\n",
            "Security\n",
            "\n",
            "Based on the program foundation of the blockchain technology, when it comparing to the formal Internet, blockchain creates more security. First, talking about the protection of privacy as well as confidentiality, blockchain can do better than the Internet. For example, if a user wants to transfer 100 dollars to another user, users will need to provide lots of personal information and lots of setup procedures to complete this transaction but in blockchain the user only needs to use his own blockchain address which looks like a series of garbled number to another user’s address. Although this transaction will broadcast in the whole blockchain network, nobody will find out which address belongs to the user, and one user can own multiple addresses, which makes transactions almost anonymous. Second, blockchain can provide more integrity. This feature was mostly implemented by using hash algorithm (an algorithm that can automatically provide a crypto ‘signature’ for a text or a data file) (Veness, n.d.). The hash algorithm is the foundation stone of the blockchain. To alter the information which has hash signature, must crack the private key within the information first, this process means thousands of years decrypting. In that case, the cost to tamper the data in the blockchain is higher than on the Internet (Park, 2017). Last but not least, the usability is not like the Internet, if it’s main server break down the whole Internet will be influenced, even shut down because of this, but if the same situation happened in the blockchain, there is no such thing as a main server. Every user is a server so as long as the circumstances are not bad enough to make most of the user offline the blockchain will still working normally.\n",
            "\n",
            "   Based on the distributed ledger technology feature, blockchain not only provides security but also decreases the cost about companies’ system construction. With this feature, a new business model does not need a huge database anymore, because users’ devices are the company’s database. In that case, the blockchain saves a lot of money from the business database implementation fee, which not only includes the establishment fee but also with the maintenance charges (Aaron, 2018).\n",
            "\n",
            "Efficiency\n",
            "\n",
            "The efficiency that blockchain provides is mostly based on the smart contract technology. To imply this feature, a Russian genius teen created a platform built on blockchain called Ethereum. Ethereum is a special platform for smart contracts, the transit data between the terminals can be variables. Which means the data no longer need to be fixed before transmitting. Because of this property this platform can use to program the condition-orient application (Temte & Morgan, 2019). More specifically, within the smart contract the blockchain application can provide real-time updates without any manual control once the contract has been set, which means that it will execute itself automatically. In that case, it performed more efficiently than many interactions with the Internet in the same conditions. In the internet condition, only fixed information can be transmitting, to update the information need to transmit request back and forth several times. In blockchain the transmitting information can be variables, this feature cut off all the useless interactions between terminals instantly. Beyond that, it also can save a huge cost taken by the third parties or human mistakes (Rosic, Andonov & Mihaylov, 2019), besides the transactions between each endpoint.\n",
            "\n",
            "No system is perfect. Blockchain also has some drawbacks but compared to the Internet in some fields, blockchain shows more advantages. With these two features, once customers experience the services provided by blockchain they will abandon the old system sooner or later (Kaye, 2018).\n",
            "\n",
            "The previous paragraphs have conferred the advantages of blockchain, also show the reason blockchain is used to build the business model. However, the model does not appear out of nowhere. In the following paragraphs are some examples of the blockchain model.\n",
            "\n",
            "Current examples\n",
            "\n",
            "According to a research report release from the International Data Corporation (IDC), The blockchain market was expanded dramatically and is about to reach 12 billion USD before 2022(Wester, Close, D’Alfonso, Little& Xue, 2019). Many visionary companies’ CEO already acted within their companies. Some models they established begin to change the rules of current market.\n",
            "\n",
            "Eastman Kodak is an old camera company. Influenced by the raising of the smartphone and the high quality of the camera planted on the phones, the company almost went bankrupt. By using blockchain technology they created a new platform called KODAKOne. This management platform is focusing on the copyright ownership. Users can put their portfolio on the platform. With the character of blockchain, the pictures are protected automatically and every view and click gets paid (Ratko, 2019).\n",
            "\n",
            "Deloitte has been involved with blockchain for many years. Their blockchain platform named Rubix in 2014, was called it a “one-stop blockchain software platform”. The platform provides three main functions, to improve Deloitte and its client’s performance in the advanced technology field, to investigate how to help the current service of business model by using blockchain, and probe how to use blockchain solve future problems (Nicola, 2015). With that it can help the company and its customers make better strategies.\n",
            "\n",
            "Securitize is a startup company that enables the issuance and management digital securities, besides unlocking liquidity in the huge private securities market with compliant and easily tradable assets.   Moreover, its platform can provide security tokens on public blockchains and make the compliance accurate at the token level (Vanessa, 2018). To make the assets tokenize is become a trend for wealth people to preserve their value.\n",
            "\n",
            "As many pioneers of many industries already taken actions to implant the blockchain technology. There are many technology application scenarios were proved feasible. Based on that, imitate their successful examples can help build the better profitable business model. Moreover, this provide a chance to stand on the shoulders of giants. Different from explore the new territory, this is a path to expand more.\n",
            "\n",
            "Conclusion\n",
            "\n",
            "In the end although this paper did not come up with the business model by using blockchain. But it showed the path and the method by presented technology advantages such as privacy and security, along with current useful example models. Nowadays technologies have been changing with each passing day. Every technological change reconstitutes our life dramatically, for the sake of not been eliminated by the technology wave. We need to understand the blockchain further, not just limited in security and efficiency. There will be more advantages discovered in the future. Due to the limited space, this paper only showed a small part of what blockchain is capable of. To discover more, stay foolish stay hungry.\n",
            "\n",
            "References\n",
            "\n",
            "Aaron,           L. (2018). HOW MUCH DOES A MARKETING DATABASE COST? HERE ARE THE DETAILS. Retrieved November 22, 2019, from http://www.hartehanks.com/insights/our-insights/2018/04/27/How-Much-Does-a-Marketing-Database-Cost-Here-are-the-Details\n",
            "\n",
            "Allam, Z. (2018). On Smart Contracts and Organisational Performance: A Review of Smart Contracts through the Blockchain Technology, Review of Economic and Business Studies, 11(2), 137-156. doi: https://doi.org/10.1515/rebs-2018-0079\n",
            "\n",
            "Bambara, J. J., & Allen, P. R. (2018). Blockchain: a practical guide to developing business, law, and technology solutions. New York, McGraw-Hill Education (n. p.).\n",
            "\n",
            "Chris, V.(n.d.). SHA-256 Cryptographic Hash Algorithm. Retrieved November 10, 2019, from https://www.movable-type.co.uk/scripts/ sha256.html\n",
            "\n",
            "Drescher, D. (2017).Blockchain basics: a non-technical introduction in 25 steps. New York, Apress.\n",
            "\n",
            "Huh, J.H.& Kim,S.K. (2019).The Blockchain Consensus Algorithm for Viable Management of New and Renewable Energies. Sustainability, 11(11). MDPI AG. Doi:10.3390/su11113184\n",
            "\n",
            "James, W., Alison,C., Steven,D., Rivka, G.L. & Yu,X,(2019). IDC FutureScape: Worldwide Blockchain 2020 Predictions. Retrieved November 4, 2019, from https://www.idc.com/research/viewtoc.jsp? containerId=US44538119\n",
            "\n",
            "Jamil, F., Hang, L., Kim, K., & Kim, D. (2019). A Novel Medical Blockchain Model for Drug Supply Chain Integrity Management in a Smart Hospital. Electronics, 8(5), 505. doi: 10.3390/electronics8050505\n",
            "\n",
            "Kaye, C. (2018). How Blockchain Could Transform The Customer Experience. Retrieved November 25, 2019 from http://customerthink.com/how-blockchain-could-transform-the-customer-experience/.\n",
            "\n",
            "Medicalchain (2018) Medicalchain Whitepaper 2.1. Retrieved November 8, 2019 from https://medicalchain.com/Medicalchain -Whitepaper-EN.pdf.\n",
            "\n",
            "Nicola, M. (2015). Deloitte Launches Rubix, A One Stop Blockchain Software Platform [Brave Newcoin]. Retrieved November 2,2019, from https://bravenewcoin.com/insights/deloitte-launches- rubix-a-one-stop-blockchain-software-platform\n",
            "\n",
            "Park, J., & Park, J. (2017). Blockchain Security in Cloud Computing: Use Cases, Challenges, and Solutions. Symmetry, 9(8), 164. doi: 10.3390/ sym9080164\n",
            "\n",
            "Paul, V &Michael, J. C (2015). The age of cryptocurrency: how Bitcoin and digital money are challenging the global economic order. New York, St. Martin’s Press, Retrieved November 12, 2019, from http://innopac.pace.edu.rlib.pace.edu/record=b2440126\n",
            "\n",
            "Ratko,S.(2019).Five Ways Blockchain Can Transform Traditional Business and Impact the Market in the Future. Retrieved November 11, 2019, from https://medium.com/mvp-workshop/ five-ways-blockchain- can-transform-traditional-business-and-impact-the-market-in-the-future-6310a9554214\n",
            "\n",
            "Rosic, A., Andonov, S., Mihaylov, M., Dictor, V., & Georgenguyen, G. N. (2019). Smart Contracts: The Blockchain Technology That Will Replace Lawyers. Retrieved November 5, 2019, from https://blockgeeks.com/ guides /smart-contracts/.\n",
            "\n",
            "Spithoven, A (2019). ‘Theory and Reality of Cryptocurrency Governance’. Journal of Economic Issues (Taylor & Francis Ltd). 53(2), p385-393. https://doi.org/10.1080/00213624.2019.1594518\n",
            "\n",
            "Steven, B (2018). Bank reconciliation. Retrieved November 1,2019, from https://www.accountingtools.com/articles/2017/5/17/ bank-reconciliation\n",
            "\n",
            "Temte, Morgan N..Blockchain Challenges Traditional Contract Law: Just How Smart Are Smart Contracts, Wyoming Law Review, Vol. 19, Issue 1 (2019), pp. 87-118\n",
            "\n",
            "Wong, J. I. (2018) Eight years ago today, someone bought two pizzas with bitcoins now worth $82 million. Retrieved November 1, 2019 from https://qz.com/1285209/bitcoin-pizza-day-2018-eight-years- ago-someone-bought-two-pizzas-with-bitcoins-now-worth-82-million\n",
            "\n",
            "Zhang, R., Xue, R.& Liu, L. (2019). Security and Privacy on Blockchain. ACM Computing Surveys, 52(3), pg1.\n"
          ],
          "name": "stdout"
        }
      ]
    },
    {
      "cell_type": "code",
      "metadata": {
        "id": "AL3PYqMqYXnu",
        "outputId": "0ffd3407-78f4-485c-d586-8baf0595652b",
        "colab": {
          "base_uri": "https://localhost:8080/"
        }
      },
      "source": [
        "rdd0 = sc.textFile(\"wordcount_test_text\")\n",
        "rdd0.take(20)"
      ],
      "execution_count": 13,
      "outputs": [
        {
          "output_type": "execute_result",
          "data": {
            "text/plain": [
              "['How to build a better business model by blockchain',\n",
              " 'Abstract',\n",
              " '',\n",
              " 'At present, we are living in a world that the surroundings are changing dramatically every day. Since the blockchain has been invented, it already self-upgraded three versions (Spithoven, 2019). Blockchain has been treated as a technological invention that can change the world, the main features include cryptography and cybersecurity. Many companies already used it to deploy their new business model in many different fields (Zhang, Xue & Liu, 2019). The security and privacy of blockchains which are shown by the current applications proved that this advanced technology can help with building a better model.',\n",
              " '',\n",
              " 'Introduction',\n",
              " '',\n",
              " 'Not far from now, on May 22, 2010, a programmer bought two large pizzas for 10,000 bitcoins. They were only worth about 30 dollars at the time (Wong, 2018). Now worth 80 million dollars, none of the companies have this rising price in the stock market like this.',\n",
              " '',\n",
              " 'Since the blockchain has been invented,11 years have passed. Nowadays almost everybody knows two words, blockchain and bitcoin. Recently, almost every central bank has announced it was in the process of developing their blockchain system and issuing their digital currency. Meanwhile, lots of technology companies are adding their blockchain departments (Paul & Michael, 2015). Not long ago when a company announced that it would use blockchain, the stock price would increase incredibly. Those scenes are familiar to the early stage of Internet mania. In order to avoid the collapse of the industry finance structure, knowing more about the blockchain is necessary. Blockchain technology is not omnipotent, it cannot point stone into gold. However, the advantages that blockchain shows include security and efficiency, which can help build a better business proved by some current models.',\n",
              " '',\n",
              " 'Blockchain',\n",
              " '',\n",
              " 'In this paper, the explanations are mostly focusing on the structure,technical characteristics and how to make use of them.',\n",
              " '',\n",
              " 'In a dynamic perspective blockchain is a database. It is a fixed-length infinitely expandable chain. Every transaction that takes place on the chain is recorded in block, the new block is the end of the old block (Joseph, Bambara & Paul,2018). Simply, try to imagine a scene where there is an office full of accountants, and there is a client depositing a check to his account. In the normal way there only needs to be one accountant to record it, and they only have one ledger which is the same operating principle as the old database (Steven, 2018). That flaw made it very vulnerable and easy to be altered or deleted. When it comes to blockchain, the rules are changed, every accountant needs to write it down simultaneously with security encryption method, so everybody knows how much clients have deposited but they don’t know who the client is unless the client wants them to know. If they want to change the client’s check, it can only happen when more than half of the accountants agree to change which makes it almost impossible to be altered (Huh & Kim, 2019).',\n",
              " '',\n",
              " 'However, blockchain is more than that, in this paper, it is referring to the combination of several technologies. The blockchain technology means a set of the data-structure, the algorithm, which easily established a security platform. With all those features blockchain can easily provide unbiased distributed P2P (peer to peer) network (Drescher,2017). This is the technology foundation of the security attribute.',\n",
              " '',\n",
              " 'Security']"
            ]
          },
          "metadata": {
            "tags": []
          },
          "execution_count": 13
        }
      ]
    },
    {
      "cell_type": "code",
      "metadata": {
        "id": "TJ7xxbygYalE",
        "outputId": "72b1fe09-fb1a-4e84-9b9d-0502b86986b1",
        "colab": {
          "base_uri": "https://localhost:8080/"
        }
      },
      "source": [
        "word_counts = rdd0.flatMap(lambda line: line.split()).map(lambda word: (word, 1)).reduceByKey(lambda a, b: (a + b)).map(lambda x:(x[1],x[0]))\n",
        "\n",
        "word_counts.take(30)"
      ],
      "execution_count": 14,
      "outputs": [
        {
          "output_type": "execute_result",
          "data": {
            "text/plain": [
              "[(3, 'How'),\n",
              " (48, 'to'),\n",
              " (4, 'build'),\n",
              " (40, 'a'),\n",
              " (6, 'better'),\n",
              " (9, 'business'),\n",
              " (6, 'model'),\n",
              " (11, 'by'),\n",
              " (40, 'blockchain'),\n",
              " (1, 'Abstract'),\n",
              " (1, 'At'),\n",
              " (1, 'present,'),\n",
              " (1, 'we'),\n",
              " (13, 'are'),\n",
              " (1, 'living'),\n",
              " (21, 'in'),\n",
              " (1, 'world'),\n",
              " (14, 'that'),\n",
              " (129, 'the'),\n",
              " (1, 'surroundings'),\n",
              " (2, 'changing'),\n",
              " (2, 'dramatically'),\n",
              " (4, 'every'),\n",
              " (2, 'day.'),\n",
              " (2, 'Since'),\n",
              " (8, 'has'),\n",
              " (7, 'been'),\n",
              " (1, 'invented,'),\n",
              " (18, 'it'),\n",
              " (4, 'already')]"
            ]
          },
          "metadata": {
            "tags": []
          },
          "execution_count": 14
        }
      ]
    },
    {
      "cell_type": "markdown",
      "metadata": {
        "id": "UYx2jj4qnOTC"
      },
      "source": [
        "# Get name from wiki table"
      ]
    },
    {
      "cell_type": "code",
      "metadata": {
        "id": "fBwfG48Cllpg",
        "outputId": "8b82cc2f-4f75-4f9d-8c5b-3512d79ca6d1",
        "colab": {
          "base_uri": "https://localhost:8080/"
        }
      },
      "source": [
        "import requests  \n",
        "from bs4 import BeautifulSoup \n",
        "import pandas as pd\n",
        "import csv\n",
        "import time\n",
        "import matplotlib.pyplot as plt\n",
        "\n",
        "url1 = \"https://en.wikipedia.org/wiki/List_of_most_popular_given_names#Male_names_2\"\n",
        "\n",
        "s = requests.Session()\n",
        "response = s.get(url1, timeout=10)\n",
        "response"
      ],
      "execution_count": 22,
      "outputs": [
        {
          "output_type": "execute_result",
          "data": {
            "text/plain": [
              "<Response [200]>"
            ]
          },
          "metadata": {
            "tags": []
          },
          "execution_count": 22
        }
      ]
    },
    {
      "cell_type": "code",
      "metadata": {
        "id": "vxHFdXGunNV0",
        "outputId": "14a22df9-bf7f-4130-b956-cc0c4a3b722d",
        "colab": {
          "base_uri": "https://localhost:8080/",
          "height": 35
        }
      },
      "source": [
        "soup = BeautifulSoup(response.content, 'html.parser')\n",
        "pretty_soup = soup.prettify()\n",
        "\n",
        "soup.title.string"
      ],
      "execution_count": 23,
      "outputs": [
        {
          "output_type": "execute_result",
          "data": {
            "application/vnd.google.colaboratory.intrinsic+json": {
              "type": "string"
            },
            "text/plain": [
              "'List of most popular given names - Wikipedia'"
            ]
          },
          "metadata": {
            "tags": []
          },
          "execution_count": 23
        }
      ]
    },
    {
      "cell_type": "code",
      "metadata": {
        "id": "Jcvox7Mkqfh7",
        "outputId": "42c57ed1-0dc7-44a2-bd5e-152422e12845",
        "colab": {
          "base_uri": "https://localhost:8080/"
        }
      },
      "source": [
        "all_tables=soup.find_all('table')\n",
        "#wikitable sortable mw-collapsible jquery-tablesorter mw-made-collapsible\n",
        "right_table=soup.find('table', {\"class\":'wikitable'})\n",
        "print(right_table)"
      ],
      "execution_count": 24,
      "outputs": [
        {
          "output_type": "stream",
          "text": [
            "<table class=\"wikitable\">\n",
            "<tbody><tr style=\"background:#a0d0ff;\">\n",
            "<th style=\"width:300px;\">Region (year)</th>\n",
            "<th>No. 1</th>\n",
            "<th>No. 2</th>\n",
            "<th>No. 3</th>\n",
            "<th>No. 4</th>\n",
            "<th>No. 5</th>\n",
            "<th>No. 6</th>\n",
            "<th>No. 7</th>\n",
            "<th>No. 8</th>\n",
            "<th>No. 9</th>\n",
            "<th>No. 10\n",
            "</th></tr>\n",
            "<tr>\n",
            "<td><a href=\"/wiki/Algeria\" title=\"Algeria\">Algeria</a> (census, 2010)<sup class=\"reference\" id=\"cite_ref-ine.es_1-0\"><a href=\"#cite_note-ine.es-1\">[1]</a></sup></td>\n",
            "<td><a href=\"/wiki/Muhammad_(name)\" title=\"Muhammad (name)\">Mohamed</a></td>\n",
            "<td>Abdelkader</td>\n",
            "<td><a href=\"/wiki/Ahmad\" title=\"Ahmad\">Ahmed</a></td>\n",
            "<td><a href=\"/wiki/Muhammad_(name)\" title=\"Muhammad (name)\">Mohammed</a></td>\n",
            "<td><a href=\"/wiki/Ali_(name)\" title=\"Ali (name)\">Ali</a></td>\n",
            "<td>Rachid</td>\n",
            "<td>Said</td>\n",
            "<td><a href=\"/wiki/Ibrahim_(name)\" title=\"Ibrahim (name)\">Brahim</a></td>\n",
            "<td><a href=\"/wiki/Omar_(name)\" title=\"Omar (name)\">Omar</a></td>\n",
            "<td>Djamel\n",
            "</td></tr>\n",
            "<tr>\n",
            "<td><a href=\"/wiki/Egypt\" title=\"Egypt\">Egypt</a> (2004, unofficial)<sup class=\"reference\" id=\"cite_ref-ahram2004_2-0\"><a href=\"#cite_note-ahram2004-2\">[2]</a></sup></td>\n",
            "<td><a href=\"/wiki/Muhammad_(name)\" title=\"Muhammad (name)\">Mohamed</a>, <a class=\"mw-redirect\" href=\"/wiki/Joseph_(given_name)\" title=\"Joseph (given name)\">Youssef</a>, <a href=\"/wiki/Ahmad\" title=\"Ahmad\">Ahmed</a>, <a href=\"/wiki/Mahmud\" title=\"Mahmud\">Mahmoud</a>, <a href=\"/wiki/Mustafa\" title=\"Mustafa\">Mustafa</a>, Yassin, <a href=\"/wiki/Taha_(name)\" title=\"Taha (name)\">Taha</a>, Khaled, <a href=\"/wiki/Hamza_(name)\" title=\"Hamza (name)\">Hamza</a>, Bilal, <a href=\"/wiki/Ibrahim_(name)\" title=\"Ibrahim (name)\">Ibrahim</a>, <a href=\"/wiki/Hassan_(given_name)\" title=\"Hassan (given name)\">Hassan</a>, <a href=\"/wiki/Hussein\" title=\"Hussein\">Hussein</a>, <a href=\"/wiki/Karim\" title=\"Karim\">Karim</a>, <a class=\"mw-redirect\" href=\"/wiki/Tariq_(given_name)\" title=\"Tariq (given name)\">Tareq</a>, <a class=\"mw-redirect\" href=\"/wiki/Abdur_Rahman\" title=\"Abdur Rahman\">Abdel-Rahman</a>, <a href=\"/wiki/Ali_(name)\" title=\"Ali (name)\">Ali</a>, <a href=\"/wiki/Omar_(name)\" title=\"Omar (name)\">Omar</a>, <a href=\"/wiki/Halim\" title=\"Halim\">Halim</a>, <a href=\"/wiki/Murad\" title=\"Murad\">Murad</a>, <a href=\"/wiki/Salem_(name)\" title=\"Salem (name)\">Selim</a>, <a href=\"/wiki/Abdullah_(name)\" title=\"Abdullah (name)\">Abdallah</a></td>\n",
            "<td>NA</td>\n",
            "<td>NA</td>\n",
            "<td>NA</td>\n",
            "<td>NA</td>\n",
            "<td>NA</td>\n",
            "<td>NA</td>\n",
            "<td>NA</td>\n",
            "<td>NA</td>\n",
            "<td>NA\n",
            "</td></tr>\n",
            "<tr>\n",
            "<td><a href=\"/wiki/Egypt\" title=\"Egypt\">Egypt</a> (2004, <a class=\"mw-redirect\" href=\"/wiki/Coptic_Christians\" title=\"Coptic Christians\">Coptic Christians</a>, unofficial)<sup class=\"reference\" id=\"cite_ref-ahram2004_2-1\"><a href=\"#cite_note-ahram2004-2\">[2]</a></sup></td>\n",
            "<td><a href=\"/wiki/Peter_(given_name)\" title=\"Peter (given name)\">Peter, Pierre</a>, <a href=\"/wiki/George_(given_name)\" title=\"George (given name)\">George</a>, <a href=\"/wiki/John_(given_name)\" title=\"John (given name)\">John</a>, <a href=\"/wiki/Mina_(given_name)\" title=\"Mina (given name)\">Mina</a>, Beshoi, <a href=\"/wiki/Cyril\" title=\"Cyril\">Kirollos</a>, <a href=\"/wiki/Mark_(given_name)\" title=\"Mark (given name)\">Mark</a>, Fadi, <a href=\"/wiki/Habib\" title=\"Habib\">Habib</a></td>\n",
            "<td>NA</td>\n",
            "<td>NA</td>\n",
            "<td>NA</td>\n",
            "<td>NA</td>\n",
            "<td>NA</td>\n",
            "<td>NA</td>\n",
            "<td>NA</td>\n",
            "<td>NA</td>\n",
            "<td>NA\n",
            "</td></tr>\n",
            "<tr>\n",
            "<td><a href=\"/wiki/Ethiopia\" title=\"Ethiopia\">Ethiopia</a> (2004, <a class=\"mw-redirect\" href=\"/wiki/Orthodox_Christians\" title=\"Orthodox Christians\">Orthodox Christians</a>, unofficial)<sup class=\"noprint Inline-Template Template-Fact\" style=\"white-space:nowrap;\">[<i><a href=\"/wiki/Wikipedia:Citation_needed\" title=\"Wikipedia:Citation needed\"><span title=\"This claim needs references to reliable sources. (July 2020)\">citation needed</span></a></i>]</sup></td>\n",
            "<td><a href=\"/wiki/Paulos\" title=\"Paulos\">Paulos</a>, <a href=\"/wiki/Petros_(given_name)\" title=\"Petros (given name)\">Petros</a>, <a href=\"/wiki/Gabriel_(given_name)\" title=\"Gabriel (given name)\">Gabreal</a>, <a href=\"/wiki/Giorgis\" title=\"Giorgis\">Giorgis</a>, <a href=\"/wiki/Yohannes_(given_name)\" title=\"Yohannes (given name)\">Yonas</a>, <a href=\"/wiki/Jonathan_(name)\" title=\"Jonathan (name)\">Yonathan</a>, <a href=\"/wiki/Abraham_(given_name)\" title=\"Abraham (given name)\">Abraham</a>, <a href=\"/wiki/Emanuel_(name)\" title=\"Emanuel (name)\">Ammanuel</a>, <a href=\"/wiki/Mark_(given_name)\" title=\"Mark (given name)\">Markos</a>, <a href=\"/wiki/Michael\" title=\"Michael\">Michael</a>, <a class=\"mw-disambig\" href=\"/wiki/Nahum_(disambiguation)\" title=\"Nahum (disambiguation)\">Nahom</a></td>\n",
            "<td>NA</td>\n",
            "<td>NA</td>\n",
            "<td>NA</td>\n",
            "<td>NA</td>\n",
            "<td>NA</td>\n",
            "<td>NA</td>\n",
            "<td>NA</td>\n",
            "<td>NA</td>\n",
            "<td>NA\n",
            "</td></tr>\n",
            "<tr>\n",
            "<td><a href=\"/wiki/Equatorial_Guinea\" title=\"Equatorial Guinea\">Equatorial Guinea</a> (2011)<sup class=\"reference\" id=\"cite_ref-elconfidencial.com_3-0\"><a href=\"#cite_note-elconfidencial.com-3\">[3]</a></sup></td>\n",
            "<td><a href=\"/wiki/Manuel_(name)\" title=\"Manuel (name)\">Manuel</a></td>\n",
            "<td><a href=\"/wiki/Juan\" title=\"Juan\">Juan</a></td>\n",
            "<td><a href=\"/wiki/Antonio\" title=\"Antonio\">Antonio</a></td>\n",
            "<td><a class=\"mw-redirect\" href=\"/wiki/Joseph_(name)\" title=\"Joseph (name)\">José</a></td>\n",
            "<td>NA</td>\n",
            "<td>NA</td>\n",
            "<td>NA</td>\n",
            "<td>NA</td>\n",
            "<td>NA</td>\n",
            "<td>NA\n",
            "</td></tr>\n",
            "<tr>\n",
            "<td><a href=\"/wiki/Libya\" title=\"Libya\">Libya</a><sup class=\"noprint Inline-Template Template-Fact\" style=\"white-space:nowrap;\">[<i><a href=\"/wiki/Wikipedia:Citation_needed\" title=\"Wikipedia:Citation needed\"><span title=\"This claim needs references to reliable sources. (December 2007)\">citation needed</span></a></i>]</sup></td>\n",
            "<td><a href=\"/wiki/Muhammad_(name)\" title=\"Muhammad (name)\">Mohammed</a></td>\n",
            "<td><a href=\"/wiki/Ahmad\" title=\"Ahmad\">Ahmed</a></td>\n",
            "<td><a href=\"/wiki/Ali_(name)\" title=\"Ali (name)\">Ali</a></td>\n",
            "<td><a href=\"/wiki/Hamza_(name)\" title=\"Hamza (name)\">Hamza</a></td>\n",
            "<td><a href=\"/wiki/Ibrahim_(name)\" title=\"Ibrahim (name)\">Ibrahim</a></td>\n",
            "<td><a href=\"/wiki/Mahmud\" title=\"Mahmud\">Mahmoud</a></td>\n",
            "<td><a href=\"/wiki/Abdullah_(name)\" title=\"Abdullah (name)\">Abdallah</a></td>\n",
            "<td><a class=\"mw-redirect\" href=\"/wiki/Tariq_(given_name)\" title=\"Tariq (given name)\">Tareq</a></td>\n",
            "<td><a href=\"/wiki/Hassan_(given_name)\" title=\"Hassan (given name)\">Hassan</a></td>\n",
            "<td>Khaled\n",
            "</td></tr>\n",
            "<tr>\n",
            "<td><a href=\"/wiki/Mali\" title=\"Mali\">Mali</a> (census, 2010)<sup class=\"reference\" id=\"cite_ref-ine.es_1-1\"><a href=\"#cite_note-ine.es-1\">[1]</a></sup></td>\n",
            "<td><a href=\"/wiki/Mamadou\" title=\"Mamadou\">Mamadou</a></td>\n",
            "<td><a href=\"/wiki/Moussa\" title=\"Moussa\">Moussa</a></td>\n",
            "<td>Mahamadou</td>\n",
            "<td>Adama</td>\n",
            "<td>Bakary</td>\n",
            "<td><a href=\"/wiki/Abdoulaye\" title=\"Abdoulaye\">Abdoulaye</a></td>\n",
            "<td>Modibo</td>\n",
            "<td>Oumar</td>\n",
            "<td><a href=\"/wiki/Sekou\" title=\"Sekou\">Sekou</a></td>\n",
            "<td>Souleymane\n",
            "</td></tr>\n",
            "<tr>\n",
            "<td><a href=\"/wiki/Morocco\" title=\"Morocco\">Morocco</a><sup class=\"reference\" id=\"cite_ref-4\"><a href=\"#cite_note-4\">[4]</a></sup></td>\n",
            "<td><a href=\"/wiki/Muhammad_(name)\" title=\"Muhammad (name)\">Mohamed</a><br/></td>\n",
            "<td><a class=\"mw-redirect\" href=\"/wiki/Joseph_(given_name)\" title=\"Joseph (given name)\">Youssef</a></td>\n",
            "<td><a href=\"/wiki/Hamza_(name)\" title=\"Hamza (name)\">Hamza</a></td>\n",
            "<td><a href=\"/wiki/Omar_(name)\" title=\"Omar (name)\">Omar</a></td>\n",
            "<td><a href=\"/wiki/Amine\" title=\"Amine\">Amine</a></td>\n",
            "<td><a href=\"/wiki/Karim\" title=\"Karim\">Karim</a></td>\n",
            "<td><a href=\"/wiki/Mehdi\" title=\"Mehdi\">Mehdi</a></td>\n",
            "<td><a href=\"/wiki/Yassine_(name)\" title=\"Yassine (name)\">Yassine</a></td>\n",
            "<td><a class=\"mw-redirect\" href=\"/wiki/Zakaria\" title=\"Zakaria\">Zakaria</a></td>\n",
            "<td><a href=\"/wiki/Ali_(name)\" title=\"Ali (name)\">Ali</a>\n",
            "</td></tr>\n",
            "<tr>\n",
            "<td><a href=\"/wiki/South_Africa\" title=\"South Africa\">South Africa</a><sup class=\"reference\" id=\"cite_ref-statssa.gov.za_5-0\"><a href=\"#cite_note-statssa.gov.za-5\">[5]</a></sup> (2015)</td>\n",
            "<td><a href=\"/wiki/Junior_(name)\" title=\"Junior (name)\">Junior</a></td>\n",
            "<td><a href=\"/wiki/Blessing\" title=\"Blessing\">Blessing</a></td>\n",
            "<td><a href=\"/wiki/Gift\" title=\"Gift\">Gift</a></td>\n",
            "<td>Bandile</td>\n",
            "<td><a href=\"/wiki/Prince_(given_name)\" title=\"Prince (given name)\">Prince</a></td>\n",
            "<td>Siyabonga</td>\n",
            "<td>Melokuhle</td>\n",
            "<td>Lethabo</td>\n",
            "<td>Banele</td>\n",
            "<td>Samkelo\n",
            "</td></tr>\n",
            "<tr>\n",
            "<td><a href=\"/wiki/Tunisia\" title=\"Tunisia\">Tunisia</a><sup class=\"reference\" id=\"cite_ref-babynamefacts2005_6-0\"><a href=\"#cite_note-babynamefacts2005-6\">[6]</a></sup></td>\n",
            "<td><a href=\"/wiki/Mehdi\" title=\"Mehdi\">Mehdi</a></td>\n",
            "<td><a class=\"mw-redirect\" href=\"/wiki/Yusuf_(name)\" title=\"Yusuf (name)\">Youssef</a></td>\n",
            "<td><a href=\"/wiki/Aziz\" title=\"Aziz\">Aziz</a></td>\n",
            "<td><a href=\"/wiki/Karim\" title=\"Karim\">Karim</a></td>\n",
            "<td>NA</td>\n",
            "<td>NA</td>\n",
            "<td>NA</td>\n",
            "<td>NA</td>\n",
            "<td>NA</td>\n",
            "<td>NA\n",
            "</td></tr></tbody></table>\n"
          ],
          "name": "stdout"
        }
      ]
    },
    {
      "cell_type": "code",
      "metadata": {
        "id": "4zaXnRdKnpfu",
        "outputId": "fc46dde4-4c63-41b9-b342-747bd720b933",
        "colab": {
          "base_uri": "https://localhost:8080/"
        }
      },
      "source": [
        "for row in right_table.find_all(\"tr\"):\n",
        "    cells = row.findAll('td')\n",
        "\n",
        "len(cells)"
      ],
      "execution_count": 25,
      "outputs": [
        {
          "output_type": "execute_result",
          "data": {
            "text/plain": [
              "11"
            ]
          },
          "metadata": {
            "tags": []
          },
          "execution_count": 25
        }
      ]
    },
    {
      "cell_type": "code",
      "metadata": {
        "id": "7GY1Hi5gsZ-t",
        "outputId": "bd8f92ae-8874-4daa-f642-40860ae6f2c7",
        "colab": {
          "base_uri": "https://localhost:8080/"
        }
      },
      "source": [
        "rows = right_table.findAll(\"tr\")\n",
        "len(rows)"
      ],
      "execution_count": 26,
      "outputs": [
        {
          "output_type": "execute_result",
          "data": {
            "text/plain": [
              "11"
            ]
          },
          "metadata": {
            "tags": []
          },
          "execution_count": 26
        }
      ]
    },
    {
      "cell_type": "code",
      "metadata": {
        "id": "vdfHtfNosoIM",
        "outputId": "8f315ab0-4cd2-4e17-f49d-3c67471bc543",
        "colab": {
          "base_uri": "https://localhost:8080/"
        }
      },
      "source": [
        "header = [th.text.rstrip() for th in rows[0].find_all('th')]\n",
        "print(header)\n",
        "print('------------')\n",
        "print(len(header))"
      ],
      "execution_count": 27,
      "outputs": [
        {
          "output_type": "stream",
          "text": [
            "['Region (year)', 'No. 1', 'No. 2', 'No. 3', 'No. 4', 'No. 5', 'No. 6', 'No. 7', 'No. 8', 'No. 9', 'No. 10']\n",
            "------------\n",
            "11\n"
          ],
          "name": "stdout"
        }
      ]
    },
    {
      "cell_type": "code",
      "metadata": {
        "id": "bN9ZrIxxs1iQ",
        "outputId": "de4ac72d-6575-4605-caf7-3ba6260c4978",
        "colab": {
          "base_uri": "https://localhost:8080/"
        }
      },
      "source": [
        "remove_items = ['NA', 'Algeria (census, 2010)[1]', 'Egypt (2004, unofficial)[2]', \n",
        "                'Egypt (2004, Coptic Christians, unofficial)[2]', \n",
        "                'Ethiopia (2004, Orthodox Christians, unofficial)[citation needed]', \n",
        "                'Equatorial Guinea (2011)[3]', \n",
        "                'Libya[citation needed]', 'Mali (census, 2010)[1]', 'Morocco[4]',\n",
        "                'South Africa[5] (2015)', 'Tunisia[6]']\n",
        "\n",
        "\n",
        "lst_data = []\n",
        "for row in rows[1:]:\n",
        "    for d in row.select('td'):\n",
        "        data = d.text.rstrip()\n",
        "        if data != 'NA':\n",
        "            lst_data.append(data)\n",
        "\n",
        "for items in remove_items:\n",
        "    try:\n",
        "        lst_data.remove(items)\n",
        "    except ValueError:\n",
        "        pass  \n"
      ],
      "execution_count": 85,
      "outputs": [
        {
          "output_type": "stream",
          "text": [
            "['Mohamed', 'Abdelkader', 'Ahmed', 'Mohammed', 'Ali', 'Rachid', 'Said', 'Brahim', 'Omar', 'Djamel', 'Mohamed, Youssef, Ahmed, Mahmoud, Mustafa, Yassin, Taha, Khaled, Hamza, Bilal, Ibrahim, Hassan, Hussein, Karim, Tareq, Abdel-Rahman, Ali, Omar, Halim, Murad, Selim, Abdallah', 'Peter, Pierre, George, John, Mina, Beshoi, Kirollos, Mark, Fadi, Habib', 'Paulos, Petros, Gabreal, Giorgis, Yonas, Yonathan, Abraham, Ammanuel, Markos, Michael, Nahom', 'Manuel', 'Juan', 'Antonio', 'José', 'Mohammed', 'Ahmed', 'Ali', 'Hamza', 'Ibrahim', 'Mahmoud', 'Abdallah', 'Tareq', 'Hassan', 'Khaled', 'Mamadou', 'Moussa', 'Mahamadou', 'Adama', 'Bakary', 'Abdoulaye', 'Modibo', 'Oumar', 'Sekou', 'Souleymane', 'Mohamed', 'Youssef', 'Hamza', 'Omar', 'Amine', 'Karim', 'Mehdi', 'Yassine', 'Zakaria', 'Ali', 'Junior', 'Blessing', 'Gift', 'Bandile', 'Prince', 'Siyabonga', 'Melokuhle', 'Lethabo', 'Banele', 'Samkelo', 'Mehdi', 'Youssef', 'Aziz', 'Karim']\n",
            "61\n"
          ],
          "name": "stdout"
        }
      ]
    },
    {
      "cell_type": "markdown",
      "metadata": {
        "id": "dwBaMj37JXFZ"
      },
      "source": [
        "# friend detection"
      ]
    },
    {
      "cell_type": "code",
      "metadata": {
        "id": "lsMu-2FXYeFF",
        "outputId": "d0ca3c47-f926-4de7-b034-66c6d4bbbf60",
        "colab": {
          "base_uri": "https://localhost:8080/"
        }
      },
      "source": [
        "!wget \"https://raw.githubusercontent.com/neowalter/CS658/main/friends\"\n",
        "rdd = sc.textFile(\"friends\")\n",
        "!cat friends"
      ],
      "execution_count": 94,
      "outputs": [
        {
          "output_type": "stream",
          "text": [
            "--2020-11-03 08:08:37--  https://raw.githubusercontent.com/neowalter/CS658/main/friends\n",
            "Resolving raw.githubusercontent.com (raw.githubusercontent.com)... 151.101.0.133, 151.101.64.133, 151.101.128.133, ...\n",
            "Connecting to raw.githubusercontent.com (raw.githubusercontent.com)|151.101.0.133|:443... connected.\n",
            "HTTP request sent, awaiting response... 200 OK\n",
            "Length: 466 [text/plain]\n",
            "Saving to: ‘friends’\n",
            "\n",
            "\rfriends               0%[                    ]       0  --.-KB/s               \rfriends             100%[===================>]     466  --.-KB/s    in 0s      \n",
            "\n",
            "2020-11-03 08:08:37 (28.3 MB/s) - ‘friends’ saved [466/466]\n",
            "\n",
            "Mohamed Omar\n",
            "Abdelkader Ali\n",
            "Ahmed Adama\n",
            "Brahim Adama\n",
            "Omar George\n",
            "Youssef George\n",
            "Ali George\n",
            "Omar Adama\n",
            "Halim Ali\n",
            "Murad George\n",
            "Selim George\n",
            "Abdallah Ali\n",
            "Peter Mina\n",
            "Pierre Mina\n",
            "George Adama\n",
            "John Giorgis\n",
            "Mina Giorgis\n",
            "Beshoi George\n",
            "Kirollos Mina\n",
            "Mark Youssef\n",
            "Fadi Mina\n",
            "Habib Paulos\n",
            "Petros Gabreal \n",
            "Giorgis Giorgis\n",
            "Yonas Youssef\n",
            "Yonathan Giorgis\n",
            "Abraham Ammanuel \n",
            "Markos Yonas\n",
            "Michael Nahom \n",
            "Juan Youssef\n",
            "Antonio Ali\n",
            "Adama Bakary \n",
            "Mohamed Youssef\n",
            "Ali Markos\n",
            "Youssef Yonas\n"
          ],
          "name": "stdout"
        }
      ]
    },
    {
      "cell_type": "code",
      "metadata": {
        "id": "A_mVg7mnYpRE",
        "outputId": "1c6f4a5e-9400-49ab-dc08-a0ad3bfd5162",
        "colab": {
          "base_uri": "https://localhost:8080/"
        }
      },
      "source": [
        "rdd.take(20)"
      ],
      "execution_count": 95,
      "outputs": [
        {
          "output_type": "execute_result",
          "data": {
            "text/plain": [
              "['Mohamed Omar',\n",
              " 'Abdelkader Ali',\n",
              " 'Ahmed Adama',\n",
              " 'Brahim Adama',\n",
              " 'Omar George',\n",
              " 'Youssef George',\n",
              " 'Ali George',\n",
              " 'Omar Adama',\n",
              " 'Halim Ali',\n",
              " 'Murad George',\n",
              " 'Selim George',\n",
              " 'Abdallah Ali',\n",
              " 'Peter Mina',\n",
              " 'Pierre Mina',\n",
              " 'George Adama',\n",
              " 'John Giorgis',\n",
              " 'Mina Giorgis',\n",
              " 'Beshoi George',\n",
              " 'Kirollos Mina',\n",
              " 'Mark Youssef']"
            ]
          },
          "metadata": {
            "tags": []
          },
          "execution_count": 95
        }
      ]
    },
    {
      "cell_type": "code",
      "metadata": {
        "id": "q4P_tSTHYstD",
        "outputId": "d59ca8f6-ca54-4a2f-9f2f-80e6c47aaff0",
        "colab": {
          "base_uri": "https://localhost:8080/"
        }
      },
      "source": [
        "rdd1=rdd.map(lambda x: x.split()).union(rdd.map(lambda x: x.split()[::-1]))\n",
        "\n",
        "lst = rdd1.filter(lambda x: x[0] == 'Ali').map(lambda x: x[1]).collect()\n",
        "\n",
        "rdd2 = rdd1.filter(lambda x: x[0] in lst).map(lambda x: x[1]). \\\n",
        "    filter(lambda x: x != 'Ali' and x not in lst). \\\n",
        "    map(lambda x: (x, 1)).reduceByKey(lambda a, b: a + b). \\\n",
        "    map(lambda x: (x[1], x[0])).sortByKey(ascending = False)\n",
        "\n",
        "for x, y in rdd2.collect():\n",
        "   print (\"The stranger {} has {} common friends with Ali\".format(y, x))\n"
      ],
      "execution_count": 97,
      "outputs": [
        {
          "output_type": "stream",
          "text": [
            "The stranger Adama has 1 common friends with Ali\n",
            "The stranger Yonas has 1 common friends with Ali\n",
            "The stranger Omar has 1 common friends with Ali\n",
            "The stranger Youssef has 1 common friends with Ali\n",
            "The stranger Murad has 1 common friends with Ali\n",
            "The stranger Beshoi has 1 common friends with Ali\n",
            "The stranger Selim has 1 common friends with Ali\n"
          ],
          "name": "stdout"
        }
      ]
    },
    {
      "cell_type": "code",
      "metadata": {
        "id": "Lmv0Mk8xaDGt"
      },
      "source": [
        ""
      ],
      "execution_count": null,
      "outputs": []
    }
  ]
}